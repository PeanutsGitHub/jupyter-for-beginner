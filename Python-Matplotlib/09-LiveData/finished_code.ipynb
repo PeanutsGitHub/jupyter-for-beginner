{
 "cells": [
  {
   "cell_type": "code",
   "execution_count": 1,
   "metadata": {},
   "outputs": [],
   "source": [
    "%matplotlib inline\n"
   ]
  },
  {
   "cell_type": "code",
   "execution_count": 2,
   "metadata": {},
   "outputs": [],
   "source": [
    "import random\n",
    "from itertools import count\n",
    "import pandas as pd\n",
    "import matplotlib.pyplot as plt\n",
    "from matplotlib.animation import FuncAnimation\n"
   ]
  },
  {
   "cell_type": "code",
   "execution_count": 3,
   "metadata": {},
   "outputs": [],
   "source": [
    "import os\n",
    "# Change the current working directory\n",
    "# os.chdir(os.path.dirname(__file__))  # Python .py\n",
    "os.chdir(os.path.abspath(''))  # Python & Python Notebook .ipynb\n"
   ]
  },
  {
   "cell_type": "code",
   "execution_count": 4,
   "metadata": {},
   "outputs": [],
   "source": [
    "x_vals = []\n",
    "y_vals = []\n",
    "\n",
    "index = count()\n",
    "\n",
    "\n",
    "def animate(i):\n",
    "    data = pd.read_csv('data.csv')\n",
    "    x = data['x_value']\n",
    "    y1 = data['total_1']\n",
    "    y2 = data['total_2']\n",
    "\n",
    "    plt.cla()\n",
    "\n",
    "    plt.plot(x, y1, label='Channel 1')\n",
    "    plt.plot(x, y2, label='Channel 2')\n",
    "\n",
    "    plt.legend(loc='upper left')\n",
    "    plt.tight_layout()\n"
   ]
  },
  {
   "cell_type": "code",
   "execution_count": 5,
   "metadata": {},
   "outputs": [
    {
     "data": {
      "text/plain": [
       "<Figure size 640x480 with 0 Axes>"
      ]
     },
     "metadata": {},
     "output_type": "display_data"
    }
   ],
   "source": [
    "ani = FuncAnimation(plt.gcf(), animate, interval=1000)\n",
    "\n",
    "plt.tight_layout()\n",
    "plt.show()\n"
   ]
  }
 ],
 "metadata": {
  "kernelspec": {
   "display_name": "Python 3",
   "language": "python",
   "name": "python3"
  },
  "language_info": {
   "codemirror_mode": {
    "name": "ipython",
    "version": 3
   },
   "file_extension": ".py",
   "mimetype": "text/x-python",
   "name": "python",
   "nbconvert_exporter": "python",
   "pygments_lexer": "ipython3",
   "version": "3.9.1"
  },
  "orig_nbformat": 4,
  "vscode": {
   "interpreter": {
    "hash": "9ded9d7ff6382cb1e3b668798175d8b3f77c7139edd8c7bc6d1953ed831fc6ee"
   }
  }
 },
 "nbformat": 4,
 "nbformat_minor": 2
}
