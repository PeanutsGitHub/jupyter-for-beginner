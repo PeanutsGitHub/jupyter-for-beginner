{
  "nbformat": 4,
  "nbformat_minor": 0,
  "metadata": {
    "colab": {
      "provenance": [],
      "toc_visible": true
    },
    "kernelspec": {
      "name": "python3",
      "display_name": "Python 3"
    },
    "language_info": {
      "name": "python"
    }
  },
  "cells": [
    {
      "cell_type": "markdown",
      "source": [
        "# Downloading files from web using Python"
      ],
      "metadata": {
        "id": "K9C-KGLBiW-j"
      }
    },
    {
      "cell_type": "markdown",
      "source": [
        "Requests is a versatile HTTP library in python with various applications. One of its applications is to download a file from web using the file URL.\n",
        "Installation: First of all, you would need to download the requests library. You can directly install it using pip by typing following command:\n",
        "\n",
        "> `pip install requests`\n",
        "\n",
        "Or download it directly from [here](https://pypi.org/project/requests/2.11.1/) and install manually."
      ],
      "metadata": {
        "id": "D7mMMYoqibGz"
      }
    },
    {
      "cell_type": "markdown",
      "source": [
        "### Downloading files"
      ],
      "metadata": {
        "id": "m5KYT6O5jmq8"
      }
    },
    {
      "cell_type": "code",
      "source": [
        "# Download File\n",
        "\n",
        "# imported the requests library\n",
        "import requests\n",
        "image_url = \"https://www.python.org/static/community_logos/python-logo-master-v3-TM.png\"\n",
        "  \n",
        "# URL of the image to be downloaded is defined as image_url\n",
        "r = requests.get(image_url) # create HTTP response object\n",
        "  \n",
        "# send a HTTP request to the server and save\n",
        "# the HTTP response in a response object called r\n",
        "with open(\"python_logo.png\",'wb') as f:\n",
        "  \n",
        "    # Saving received content as a png file in\n",
        "    # binary format\n",
        "  \n",
        "    # write the contents of the response (r.content)\n",
        "    # to a new file in binary mode.\n",
        "    f.write(r.content)\n"
      ],
      "metadata": {
        "id": "tbmnV0JKAZAv"
      },
      "execution_count": 1,
      "outputs": []
    },
    {
      "cell_type": "markdown",
      "source": [
        "This small piece of code written above will download the following image from the web. Now check your local directory(the folder where this script resides), and you will find this image:\n",
        "\n",
        "All we need is the URL of the image source. (You can get the URL of image source by right-clicking on the image and selecting the View Image option.)"
      ],
      "metadata": {
        "id": "xa0i2IClj4D3"
      }
    },
    {
      "cell_type": "markdown",
      "source": [
        "### Download large files"
      ],
      "metadata": {
        "id": "pzml1NNZkP9Z"
      }
    },
    {
      "cell_type": "markdown",
      "source": [
        "The HTTP response content (**r.content**) is nothing but a string which is \n",
        "storing the file data. So, it won’t be possible to save all the data in a single string in case of large files. To overcome this problem, we do some changes to our program:\n",
        "\n",
        "Since all file data can’t be stored by a single string, we use r.iter_content method to load data in chunks, specifying the chunk size.\n",
        "\n",
        "> `r = requests.get(URL, stream = True)`\n",
        "\n",
        "Setting **stream** parameter to **True** will cause the download of response headers only and the connection remains open. This avoids reading the content all at once into memory for large responses. A fixed chunk will be loaded each time while **r.iter_content** is iterated.\n",
        "\n",
        "Here is an example:"
      ],
      "metadata": {
        "id": "zOdBwaIkkVrl"
      }
    },
    {
      "cell_type": "code",
      "execution_count": 2,
      "metadata": {
        "id": "I_-PHU-l_GwZ"
      },
      "outputs": [],
      "source": [
        "# Download large files\n",
        "import requests\n",
        "file_url = \"https://raw.githubusercontent.com/PeanutsGitHub/NumPy/master/data.txt\"\n",
        "  \n",
        "r = requests.get(file_url, stream = True)\n",
        "  \n",
        "with open(\"data.txt\",\"wb\") as pdf:\n",
        "    for chunk in r.iter_content(chunk_size=1024):\n",
        "  \n",
        "         # writing one chunk at a time to pdf file\n",
        "         if chunk:\n",
        "             pdf.write(chunk)\n"
      ]
    },
    {
      "cell_type": "markdown",
      "source": [
        "### Downloading Videos"
      ],
      "metadata": {
        "id": "mlD4z3d2l527"
      }
    },
    {
      "cell_type": "markdown",
      "source": [
        "n this example, we are interested in downloading all the video lectures available on this [web-page](http://www.py4inf.com/). All the archives of this lecture are available here. So, we first scrape the webpage to extract all video links and then download the videos one by one."
      ],
      "metadata": {
        "id": "b5lQVKAsl8dl"
      }
    },
    {
      "cell_type": "code",
      "source": [
        "# Downloading Videos\n",
        "import requests\n",
        "from bs4 import BeautifulSoup\n",
        "\n",
        "'''\n",
        "URL of the archive web-page which provides link to\n",
        "all video lectures. It would have been tiring to\n",
        "download each video manually.\n",
        "In this example, we first crawl the webpage to extract\n",
        "all the links and then download videos.\n",
        "'''\n",
        "\n",
        "# specify the URL of the archive here\n",
        "archive_url = \"http://www-personal.umich.edu/~csev/books/py4inf/media/\"\n",
        "\n",
        "def get_video_links():\n",
        "\t\n",
        "\t# create response object\n",
        "\tr = requests.get(archive_url)\n",
        "\t\n",
        "\t# create beautiful-soup object\n",
        "\tsoup = BeautifulSoup(r.content,'html5lib')\n",
        "\t\n",
        "\t# find all links on web-page\n",
        "\tlinks = soup.findAll('a')\n",
        "\n",
        "\t# filter the link sending with .mp4\n",
        "\tvideo_links = [archive_url + link['href'] for link in links if link['href'].endswith('mp4')]\n",
        "\n",
        "\treturn video_links\n",
        "\n",
        "\n",
        "def download_video_series(video_links):\n",
        "\n",
        "\tfor link in video_links:\n",
        "\n",
        "\t\t'''iterate through all links in video_links\n",
        "\t\tand download them one by one'''\n",
        "\t\t\n",
        "\t\t# obtain filename by splitting url and getting\n",
        "\t\t# last string\n",
        "\t\tfile_name = link.split('/')[-1]\n",
        "\n",
        "\t\tprint( \"Downloading file:%s\"%file_name)\n",
        "\t\t\n",
        "\t\t# create response object\n",
        "\t\tr = requests.get(link, stream = True)\n",
        "\t\t\n",
        "\t\t# download started\n",
        "\t\twith open(file_name, 'wb') as f:\n",
        "\t\t\tfor chunk in r.iter_content(chunk_size = 1024*1024):\n",
        "\t\t\t\tif chunk:\n",
        "\t\t\t\t\tf.write(chunk)\n",
        "\t\t\n",
        "\t\tprint( \"%s downloaded!\\n\"%file_name )\n",
        "\n",
        "\tprint (\"All videos downloaded!\")\n",
        "\treturn\n",
        "\n",
        "\n",
        "if __name__ == \"__main__\":\n",
        "\n",
        "\t# getting all video links\n",
        "\tvideo_links = get_video_links()\n",
        "\n",
        "\t# download all videos\n",
        "\tdownload_video_series(video_links)\n",
        "\t"
      ],
      "metadata": {
        "id": "lq0_5f89AspG"
      },
      "execution_count": null,
      "outputs": []
    },
    {
      "cell_type": "markdown",
      "source": [
        "Advantages of using Requests library to download web files are:\n",
        "\n",
        "* One can easily download the web directories by iterating recursively \n",
        "through the website!\n",
        "* This is a browser-independent method and much faster!\n",
        "* One can simply scrape a web page to get all the file URLs on a webpage and hence, download all files in a single command-\n",
        "[Implementing Web Scraping in Python with BeautifulSoup](https://www.geeksforgeeks.org/implementing-web-scraping-python-beautiful-soup/)\n",
        "\n",
        "This blog is contributed by Nikhil Kumar. If you like GeeksforGeeks and would like to contribute, you can also write an article using write.geeksforgeeks.org or mail your article to review-team@geeksforgeeks.org. See your article appearing on the GeeksforGeeks main page and help other Geeks.\n",
        "\n",
        "Please write comments if you find anything incorrect, or you want to share more information about the topic discussed above."
      ],
      "metadata": {
        "id": "7ZN5qZKpmTCB"
      }
    },
    {
      "cell_type": "markdown",
      "source": [
        "Reference URL: https://www.geeksforgeeks.org/downloading-files-web-using-python/"
      ],
      "metadata": {
        "id": "NzGydB2Em1VB"
      }
    }
  ]
}