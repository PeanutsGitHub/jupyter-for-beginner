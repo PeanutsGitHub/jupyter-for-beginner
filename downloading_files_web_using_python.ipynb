{
  "nbformat": 4,
  "nbformat_minor": 0,
  "metadata": {
    "colab": {
      "provenance": [],
      "toc_visible": true
    },
    "kernelspec": {
      "name": "python3",
      "display_name": "Python 3"
    },
    "language_info": {
      "name": "python"
    }
  },
  "cells": [
    {
      "cell_type": "code",
      "source": [
        "# Download File\n",
        "\n",
        "# imported the requests library\n",
        "import requests\n",
        "image_url = \"https://www.python.org/static/community_logos/python-logo-master-v3-TM.png\"\n",
        "  \n",
        "# URL of the image to be downloaded is defined as image_url\n",
        "r = requests.get(image_url) # create HTTP response object\n",
        "  \n",
        "# send a HTTP request to the server and save\n",
        "# the HTTP response in a response object called r\n",
        "with open(\"python_logo.png\",'wb') as f:\n",
        "  \n",
        "    # Saving received content as a png file in\n",
        "    # binary format\n",
        "  \n",
        "    # write the contents of the response (r.content)\n",
        "    # to a new file in binary mode.\n",
        "    f.write(r.content)\n"
      ],
      "metadata": {
        "id": "tbmnV0JKAZAv"
      },
      "execution_count": null,
      "outputs": []
    },
    {
      "cell_type": "code",
      "execution_count": null,
      "metadata": {
        "id": "I_-PHU-l_GwZ"
      },
      "outputs": [],
      "source": [
        "# Download large files\n",
        "import requests\n",
        "file_url = \"https://raw.githubusercontent.com/PeanutsGitHub/NumPy/master/data.txt\"\n",
        "  \n",
        "r = requests.get(file_url, stream = True)\n",
        "  \n",
        "with open(\"data.txt\",\"wb\") as pdf:\n",
        "    for chunk in r.iter_content(chunk_size=1024):\n",
        "  \n",
        "         # writing one chunk at a time to pdf file\n",
        "         if chunk:\n",
        "             pdf.write(chunk)\n"
      ]
    },
    {
      "cell_type": "code",
      "source": [
        "# Downloading Videos\n",
        "import requests\n",
        "from bs4 import BeautifulSoup\n",
        "\n",
        "'''\n",
        "URL of the archive web-page which provides link to\n",
        "all video lectures. It would have been tiring to\n",
        "download each video manually.\n",
        "In this example, we first crawl the webpage to extract\n",
        "all the links and then download videos.\n",
        "'''\n",
        "\n",
        "# specify the URL of the archive here\n",
        "archive_url = \"http://www-personal.umich.edu/~csev/books/py4inf/media/\"\n",
        "\n",
        "def get_video_links():\n",
        "\t\n",
        "\t# create response object\n",
        "\tr = requests.get(archive_url)\n",
        "\t\n",
        "\t# create beautiful-soup object\n",
        "\tsoup = BeautifulSoup(r.content,'html5lib')\n",
        "\t\n",
        "\t# find all links on web-page\n",
        "\tlinks = soup.findAll('a')\n",
        "\n",
        "\t# filter the link sending with .mp4\n",
        "\tvideo_links = [archive_url + link['href'] for link in links if link['href'].endswith('mp4')]\n",
        "\n",
        "\treturn video_links\n",
        "\n",
        "\n",
        "def download_video_series(video_links):\n",
        "\n",
        "\tfor link in video_links:\n",
        "\n",
        "\t\t'''iterate through all links in video_links\n",
        "\t\tand download them one by one'''\n",
        "\t\t\n",
        "\t\t# obtain filename by splitting url and getting\n",
        "\t\t# last string\n",
        "\t\tfile_name = link.split('/')[-1]\n",
        "\n",
        "\t\tprint( \"Downloading file:%s\"%file_name)\n",
        "\t\t\n",
        "\t\t# create response object\n",
        "\t\tr = requests.get(link, stream = True)\n",
        "\t\t\n",
        "\t\t# download started\n",
        "\t\twith open(file_name, 'wb') as f:\n",
        "\t\t\tfor chunk in r.iter_content(chunk_size = 1024*1024):\n",
        "\t\t\t\tif chunk:\n",
        "\t\t\t\t\tf.write(chunk)\n",
        "\t\t\n",
        "\t\tprint( \"%s downloaded!\\n\"%file_name )\n",
        "\n",
        "\tprint (\"All videos downloaded!\")\n",
        "\treturn\n",
        "\n",
        "\n",
        "if __name__ == \"__main__\":\n",
        "\n",
        "\t# getting all video links\n",
        "\tvideo_links = get_video_links()\n",
        "\n",
        "\t# download all videos\n",
        "\tdownload_video_series(video_links)\n",
        "\t"
      ],
      "metadata": {
        "id": "lq0_5f89AspG"
      },
      "execution_count": null,
      "outputs": []
    }
  ]
}